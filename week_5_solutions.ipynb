{
 "cells": [
  {
   "cell_type": "code",
   "execution_count": 12,
   "id": "de0b52d1",
   "metadata": {},
   "outputs": [],
   "source": [
    "library(tidyverse)"
   ]
  },
  {
   "cell_type": "markdown",
   "id": "526a84d8",
   "metadata": {},
   "source": [
    "Q0. Write a function that takes a vector and replaced it with the mean of the that vector\n",
    "  * Let's call that function `replace_na_mean`\n",
    "\n",
    "  * Try your function using the following snippet:\n",
    "\n",
    "```\n",
    "replace_na_mean(c(1, NA, 2, 3, 2, 2, NA))\n",
    "```"
   ]
  },
  {
   "cell_type": "code",
   "execution_count": 20,
   "id": "ef2e6b4d",
   "metadata": {},
   "outputs": [
    {
     "data": {
      "text/html": [
       "2"
      ],
      "text/latex": [
       "2"
      ],
      "text/markdown": [
       "2"
      ],
      "text/plain": [
       "[1] 2"
      ]
     },
     "metadata": {},
     "output_type": "display_data"
    },
    {
     "data": {
      "text/html": [
       "3"
      ],
      "text/latex": [
       "3"
      ],
      "text/markdown": [
       "3"
      ],
      "text/plain": [
       "[1] 3"
      ]
     },
     "metadata": {},
     "output_type": "display_data"
    }
   ],
   "source": [
    "### Write your code here\n",
    "replace_na_mean <- function(x){\n",
    "    mean(x, na.rm = TRUE)\n",
    "}\n",
    "replace_na_mean(c(1, NA, 2, 3, 2, 2, NA))\n",
    "replace_na_mean(c(1,2,3,4,5,NA,NA,NA,NA))"
   ]
  },
  {
   "cell_type": "markdown",
   "id": "b4207bca",
   "metadata": {},
   "source": [
    "Q1. Write a function that returns the sample space for the experiment consisting of samplign a 4 digit PIN\n",
    "  * Call your function get_all_perms\n",
    "\n",
    "  * Essentially, your function does not take any arguments but returns the sample space consisting of all the four digit numbers\n",
    "   \n",
    "  * The function `expand.grid` expand.grid creates a data frame from all combinations of the supplied vectors or factors. For example:\n",
    " \n",
    "  ```expand.grid(0:1, 0:1, 0:1)```\n",
    "\n",
    "* generates  \n",
    "\n",
    "![](https://www.dropbox.com/s/cnlt4fg8rxd01d6/expand.grid.png?dl=1)\n",
    " \n",
    "\n",
    "* Strategy, use `expand.grid` to generate the permutation for four verctation in the range 0:9\n",
    "  * Return the number of rows in that `data.frame`\n",
    "\n",
    "  "
   ]
  },
  {
   "cell_type": "code",
   "execution_count": 6,
   "id": "e559210c",
   "metadata": {},
   "outputs": [
    {
     "data": {
      "text/html": [
       "10000"
      ],
      "text/latex": [
       "10000"
      ],
      "text/markdown": [
       "10000"
      ],
      "text/plain": [
       "[1] 10000"
      ]
     },
     "metadata": {},
     "output_type": "display_data"
    }
   ],
   "source": [
    "### Write your code here\n",
    "get_all_perms <- function(x){\n",
    "    expand.grid(0:9, 0:9,0:9,0:9) %>%\n",
    "    nrow()\n",
    "}\n",
    "get_all_perms()"
   ]
  },
  {
   "cell_type": "code",
   "execution_count": 3,
   "id": "5c7bf775",
   "metadata": {},
   "outputs": [
    {
     "data": {
      "text/html": [
       "10000"
      ],
      "text/latex": [
       "10000"
      ],
      "text/markdown": [
       "10000"
      ],
      "text/plain": [
       "[1] 10000"
      ]
     },
     "metadata": {},
     "output_type": "display_data"
    }
   ],
   "source": [
    "# Running this should return 10,000\n",
    "get_all_perms()"
   ]
  },
  {
   "cell_type": "markdown",
   "id": "7b5f5dec",
   "metadata": {},
   "source": [
    "Q2. The function above is not very useful since it always computes the same thing, namely the number of possible permutation of digits. One way to make it more useful is by passing as an argument the number of digits to consider, i.e., the number of columns in `expand.grid`. Let;s call that param `size`, which by default should be `4`. For exmaple:\n",
    "\n",
    "*  `get_all_perms(size = 1 )` will return all the number of size 1 (0-9)\n",
    "*  `get_all_perms(size = 3 )` will return all the permutations of size 3 (000 - to 999)\n",
    "\n",
    "\n",
    "* Hint: `expand.grid` requires the number of input parameters to match the permutation length. We need to automate that so that the number of vectors passed as input matches the `size` values passed into `get_all_perms`\n",
    "  * We can do that using `replicate`\n",
    "  * `replicate(2, c(1,2,3), simplify=FALSE)` will repeat the vector `c(1,2,3)` twice\n",
    "    * We need to pass `replicate` the value `simplify=FALSE` so that it does not convert the output for us into a matrix\n",
    "  * Use pipe (`%>%`) pass the output of `replicate` into expand.grid\n",
    "  * Make sure replicated generate the correct input for exand.grid\n",
    "  "
   ]
  },
  {
   "cell_type": "code",
   "execution_count": null,
   "id": "d58e99df",
   "metadata": {},
   "outputs": [],
   "source": []
  },
  {
   "cell_type": "code",
   "execution_count": 16,
   "id": "a45bbd1d",
   "metadata": {},
   "outputs": [
    {
     "data": {
      "text/html": [
       "<table class=\"dataframe\">\n",
       "<caption>A data.frame: 1000 × 3</caption>\n",
       "<thead>\n",
       "\t<tr><th scope=col>Var1</th><th scope=col>Var2</th><th scope=col>Var3</th></tr>\n",
       "\t<tr><th scope=col>&lt;int&gt;</th><th scope=col>&lt;int&gt;</th><th scope=col>&lt;int&gt;</th></tr>\n",
       "</thead>\n",
       "<tbody>\n",
       "\t<tr><td>0</td><td>0</td><td>0</td></tr>\n",
       "\t<tr><td>1</td><td>0</td><td>0</td></tr>\n",
       "\t<tr><td>2</td><td>0</td><td>0</td></tr>\n",
       "\t<tr><td>3</td><td>0</td><td>0</td></tr>\n",
       "\t<tr><td>4</td><td>0</td><td>0</td></tr>\n",
       "\t<tr><td>5</td><td>0</td><td>0</td></tr>\n",
       "\t<tr><td>6</td><td>0</td><td>0</td></tr>\n",
       "\t<tr><td>7</td><td>0</td><td>0</td></tr>\n",
       "\t<tr><td>8</td><td>0</td><td>0</td></tr>\n",
       "\t<tr><td>9</td><td>0</td><td>0</td></tr>\n",
       "\t<tr><td>0</td><td>1</td><td>0</td></tr>\n",
       "\t<tr><td>1</td><td>1</td><td>0</td></tr>\n",
       "\t<tr><td>2</td><td>1</td><td>0</td></tr>\n",
       "\t<tr><td>3</td><td>1</td><td>0</td></tr>\n",
       "\t<tr><td>4</td><td>1</td><td>0</td></tr>\n",
       "\t<tr><td>5</td><td>1</td><td>0</td></tr>\n",
       "\t<tr><td>6</td><td>1</td><td>0</td></tr>\n",
       "\t<tr><td>7</td><td>1</td><td>0</td></tr>\n",
       "\t<tr><td>8</td><td>1</td><td>0</td></tr>\n",
       "\t<tr><td>9</td><td>1</td><td>0</td></tr>\n",
       "\t<tr><td>0</td><td>2</td><td>0</td></tr>\n",
       "\t<tr><td>1</td><td>2</td><td>0</td></tr>\n",
       "\t<tr><td>2</td><td>2</td><td>0</td></tr>\n",
       "\t<tr><td>3</td><td>2</td><td>0</td></tr>\n",
       "\t<tr><td>4</td><td>2</td><td>0</td></tr>\n",
       "\t<tr><td>5</td><td>2</td><td>0</td></tr>\n",
       "\t<tr><td>6</td><td>2</td><td>0</td></tr>\n",
       "\t<tr><td>7</td><td>2</td><td>0</td></tr>\n",
       "\t<tr><td>8</td><td>2</td><td>0</td></tr>\n",
       "\t<tr><td>9</td><td>2</td><td>0</td></tr>\n",
       "\t<tr><td>⋮</td><td>⋮</td><td>⋮</td></tr>\n",
       "\t<tr><td>0</td><td>7</td><td>9</td></tr>\n",
       "\t<tr><td>1</td><td>7</td><td>9</td></tr>\n",
       "\t<tr><td>2</td><td>7</td><td>9</td></tr>\n",
       "\t<tr><td>3</td><td>7</td><td>9</td></tr>\n",
       "\t<tr><td>4</td><td>7</td><td>9</td></tr>\n",
       "\t<tr><td>5</td><td>7</td><td>9</td></tr>\n",
       "\t<tr><td>6</td><td>7</td><td>9</td></tr>\n",
       "\t<tr><td>7</td><td>7</td><td>9</td></tr>\n",
       "\t<tr><td>8</td><td>7</td><td>9</td></tr>\n",
       "\t<tr><td>9</td><td>7</td><td>9</td></tr>\n",
       "\t<tr><td>0</td><td>8</td><td>9</td></tr>\n",
       "\t<tr><td>1</td><td>8</td><td>9</td></tr>\n",
       "\t<tr><td>2</td><td>8</td><td>9</td></tr>\n",
       "\t<tr><td>3</td><td>8</td><td>9</td></tr>\n",
       "\t<tr><td>4</td><td>8</td><td>9</td></tr>\n",
       "\t<tr><td>5</td><td>8</td><td>9</td></tr>\n",
       "\t<tr><td>6</td><td>8</td><td>9</td></tr>\n",
       "\t<tr><td>7</td><td>8</td><td>9</td></tr>\n",
       "\t<tr><td>8</td><td>8</td><td>9</td></tr>\n",
       "\t<tr><td>9</td><td>8</td><td>9</td></tr>\n",
       "\t<tr><td>0</td><td>9</td><td>9</td></tr>\n",
       "\t<tr><td>1</td><td>9</td><td>9</td></tr>\n",
       "\t<tr><td>2</td><td>9</td><td>9</td></tr>\n",
       "\t<tr><td>3</td><td>9</td><td>9</td></tr>\n",
       "\t<tr><td>4</td><td>9</td><td>9</td></tr>\n",
       "\t<tr><td>5</td><td>9</td><td>9</td></tr>\n",
       "\t<tr><td>6</td><td>9</td><td>9</td></tr>\n",
       "\t<tr><td>7</td><td>9</td><td>9</td></tr>\n",
       "\t<tr><td>8</td><td>9</td><td>9</td></tr>\n",
       "\t<tr><td>9</td><td>9</td><td>9</td></tr>\n",
       "</tbody>\n",
       "</table>\n"
      ],
      "text/latex": [
       "A data.frame: 1000 × 3\n",
       "\\begin{tabular}{lll}\n",
       " Var1 & Var2 & Var3\\\\\n",
       " <int> & <int> & <int>\\\\\n",
       "\\hline\n",
       "\t 0 & 0 & 0\\\\\n",
       "\t 1 & 0 & 0\\\\\n",
       "\t 2 & 0 & 0\\\\\n",
       "\t 3 & 0 & 0\\\\\n",
       "\t 4 & 0 & 0\\\\\n",
       "\t 5 & 0 & 0\\\\\n",
       "\t 6 & 0 & 0\\\\\n",
       "\t 7 & 0 & 0\\\\\n",
       "\t 8 & 0 & 0\\\\\n",
       "\t 9 & 0 & 0\\\\\n",
       "\t 0 & 1 & 0\\\\\n",
       "\t 1 & 1 & 0\\\\\n",
       "\t 2 & 1 & 0\\\\\n",
       "\t 3 & 1 & 0\\\\\n",
       "\t 4 & 1 & 0\\\\\n",
       "\t 5 & 1 & 0\\\\\n",
       "\t 6 & 1 & 0\\\\\n",
       "\t 7 & 1 & 0\\\\\n",
       "\t 8 & 1 & 0\\\\\n",
       "\t 9 & 1 & 0\\\\\n",
       "\t 0 & 2 & 0\\\\\n",
       "\t 1 & 2 & 0\\\\\n",
       "\t 2 & 2 & 0\\\\\n",
       "\t 3 & 2 & 0\\\\\n",
       "\t 4 & 2 & 0\\\\\n",
       "\t 5 & 2 & 0\\\\\n",
       "\t 6 & 2 & 0\\\\\n",
       "\t 7 & 2 & 0\\\\\n",
       "\t 8 & 2 & 0\\\\\n",
       "\t 9 & 2 & 0\\\\\n",
       "\t ⋮ & ⋮ & ⋮\\\\\n",
       "\t 0 & 7 & 9\\\\\n",
       "\t 1 & 7 & 9\\\\\n",
       "\t 2 & 7 & 9\\\\\n",
       "\t 3 & 7 & 9\\\\\n",
       "\t 4 & 7 & 9\\\\\n",
       "\t 5 & 7 & 9\\\\\n",
       "\t 6 & 7 & 9\\\\\n",
       "\t 7 & 7 & 9\\\\\n",
       "\t 8 & 7 & 9\\\\\n",
       "\t 9 & 7 & 9\\\\\n",
       "\t 0 & 8 & 9\\\\\n",
       "\t 1 & 8 & 9\\\\\n",
       "\t 2 & 8 & 9\\\\\n",
       "\t 3 & 8 & 9\\\\\n",
       "\t 4 & 8 & 9\\\\\n",
       "\t 5 & 8 & 9\\\\\n",
       "\t 6 & 8 & 9\\\\\n",
       "\t 7 & 8 & 9\\\\\n",
       "\t 8 & 8 & 9\\\\\n",
       "\t 9 & 8 & 9\\\\\n",
       "\t 0 & 9 & 9\\\\\n",
       "\t 1 & 9 & 9\\\\\n",
       "\t 2 & 9 & 9\\\\\n",
       "\t 3 & 9 & 9\\\\\n",
       "\t 4 & 9 & 9\\\\\n",
       "\t 5 & 9 & 9\\\\\n",
       "\t 6 & 9 & 9\\\\\n",
       "\t 7 & 9 & 9\\\\\n",
       "\t 8 & 9 & 9\\\\\n",
       "\t 9 & 9 & 9\\\\\n",
       "\\end{tabular}\n"
      ],
      "text/markdown": [
       "\n",
       "A data.frame: 1000 × 3\n",
       "\n",
       "| Var1 &lt;int&gt; | Var2 &lt;int&gt; | Var3 &lt;int&gt; |\n",
       "|---|---|---|\n",
       "| 0 | 0 | 0 |\n",
       "| 1 | 0 | 0 |\n",
       "| 2 | 0 | 0 |\n",
       "| 3 | 0 | 0 |\n",
       "| 4 | 0 | 0 |\n",
       "| 5 | 0 | 0 |\n",
       "| 6 | 0 | 0 |\n",
       "| 7 | 0 | 0 |\n",
       "| 8 | 0 | 0 |\n",
       "| 9 | 0 | 0 |\n",
       "| 0 | 1 | 0 |\n",
       "| 1 | 1 | 0 |\n",
       "| 2 | 1 | 0 |\n",
       "| 3 | 1 | 0 |\n",
       "| 4 | 1 | 0 |\n",
       "| 5 | 1 | 0 |\n",
       "| 6 | 1 | 0 |\n",
       "| 7 | 1 | 0 |\n",
       "| 8 | 1 | 0 |\n",
       "| 9 | 1 | 0 |\n",
       "| 0 | 2 | 0 |\n",
       "| 1 | 2 | 0 |\n",
       "| 2 | 2 | 0 |\n",
       "| 3 | 2 | 0 |\n",
       "| 4 | 2 | 0 |\n",
       "| 5 | 2 | 0 |\n",
       "| 6 | 2 | 0 |\n",
       "| 7 | 2 | 0 |\n",
       "| 8 | 2 | 0 |\n",
       "| 9 | 2 | 0 |\n",
       "| ⋮ | ⋮ | ⋮ |\n",
       "| 0 | 7 | 9 |\n",
       "| 1 | 7 | 9 |\n",
       "| 2 | 7 | 9 |\n",
       "| 3 | 7 | 9 |\n",
       "| 4 | 7 | 9 |\n",
       "| 5 | 7 | 9 |\n",
       "| 6 | 7 | 9 |\n",
       "| 7 | 7 | 9 |\n",
       "| 8 | 7 | 9 |\n",
       "| 9 | 7 | 9 |\n",
       "| 0 | 8 | 9 |\n",
       "| 1 | 8 | 9 |\n",
       "| 2 | 8 | 9 |\n",
       "| 3 | 8 | 9 |\n",
       "| 4 | 8 | 9 |\n",
       "| 5 | 8 | 9 |\n",
       "| 6 | 8 | 9 |\n",
       "| 7 | 8 | 9 |\n",
       "| 8 | 8 | 9 |\n",
       "| 9 | 8 | 9 |\n",
       "| 0 | 9 | 9 |\n",
       "| 1 | 9 | 9 |\n",
       "| 2 | 9 | 9 |\n",
       "| 3 | 9 | 9 |\n",
       "| 4 | 9 | 9 |\n",
       "| 5 | 9 | 9 |\n",
       "| 6 | 9 | 9 |\n",
       "| 7 | 9 | 9 |\n",
       "| 8 | 9 | 9 |\n",
       "| 9 | 9 | 9 |\n",
       "\n"
      ],
      "text/plain": [
       "     Var1 Var2 Var3\n",
       "1    0    0    0   \n",
       "2    1    0    0   \n",
       "3    2    0    0   \n",
       "4    3    0    0   \n",
       "5    4    0    0   \n",
       "6    5    0    0   \n",
       "7    6    0    0   \n",
       "8    7    0    0   \n",
       "9    8    0    0   \n",
       "10   9    0    0   \n",
       "11   0    1    0   \n",
       "12   1    1    0   \n",
       "13   2    1    0   \n",
       "14   3    1    0   \n",
       "15   4    1    0   \n",
       "16   5    1    0   \n",
       "17   6    1    0   \n",
       "18   7    1    0   \n",
       "19   8    1    0   \n",
       "20   9    1    0   \n",
       "21   0    2    0   \n",
       "22   1    2    0   \n",
       "23   2    2    0   \n",
       "24   3    2    0   \n",
       "25   4    2    0   \n",
       "26   5    2    0   \n",
       "27   6    2    0   \n",
       "28   7    2    0   \n",
       "29   8    2    0   \n",
       "30   9    2    0   \n",
       "⋮    ⋮    ⋮    ⋮   \n",
       "971  0    7    9   \n",
       "972  1    7    9   \n",
       "973  2    7    9   \n",
       "974  3    7    9   \n",
       "975  4    7    9   \n",
       "976  5    7    9   \n",
       "977  6    7    9   \n",
       "978  7    7    9   \n",
       "979  8    7    9   \n",
       "980  9    7    9   \n",
       "981  0    8    9   \n",
       "982  1    8    9   \n",
       "983  2    8    9   \n",
       "984  3    8    9   \n",
       "985  4    8    9   \n",
       "986  5    8    9   \n",
       "987  6    8    9   \n",
       "988  7    8    9   \n",
       "989  8    8    9   \n",
       "990  9    8    9   \n",
       "991  0    9    9   \n",
       "992  1    9    9   \n",
       "993  2    9    9   \n",
       "994  3    9    9   \n",
       "995  4    9    9   \n",
       "996  5    9    9   \n",
       "997  6    9    9   \n",
       "998  7    9    9   \n",
       "999  8    9    9   \n",
       "1000 9    9    9   "
      ]
     },
     "metadata": {},
     "output_type": "display_data"
    }
   ],
   "source": [
    "### Write your code here\n",
    "get_all_perms <- function(size){\n",
    "    replicate(size, 0:9, simplify =FALSE) %>%\n",
    "    expand.grid()\n",
    "}\n",
    "#get_all_perms(size = 4)\n",
    "get_all_perms(size = 3)"
   ]
  },
  {
   "cell_type": "markdown",
   "id": "d826dbff",
   "metadata": {},
   "source": [
    "Q3.\n",
    "\n",
    "* Given a fish disease that occurs with a probability of p= 0.43\n",
    "* You sampled 340 animals\n",
    "* How many of these animals should you expect to see the disease in?\n",
    "* Hint: you will need to compute the probability of each element of the sample space and find the value that has the highest probability"
   ]
  },
  {
   "cell_type": "code",
   "execution_count": 9,
   "id": "8ec880ab",
   "metadata": {},
   "outputs": [
    {
     "data": {
      "text/html": [
       "147"
      ],
      "text/latex": [
       "147"
      ],
      "text/markdown": [
       "147"
      ],
      "text/plain": [
       "[1] 147"
      ]
     },
     "metadata": {},
     "output_type": "display_data"
    }
   ],
   "source": [
    "### Write your code here\n",
    "\n",
    "fish <- (0:340)\n",
    "probs <- mapply(dbinom, fish, size=340, prob=0.43)\n",
    "which.max(probs)\n",
    "\n"
   ]
  },
  {
   "cell_type": "markdown",
   "id": "2e17347b",
   "metadata": {},
   "source": [
    "Q4. Plot the two following distributions:\n",
    "\n",
    "$$\n",
    "x \\sim \\mathcal{N}(10, 0.5) \\\\\n",
    "y \\sim \\mathcal{N}(10.2, 0.5) \\\\\n",
    "$$\n",
    "\n",
    "* Your plot should look like the following\n",
    "![](https://www.dropbox.com/s/psrjtl6abjla7z5/sample_gaussian_plot.png?dl=1)\n",
    "\n",
    "\n",
    "* Draw 40 values from the first distribution and store them in a variable called `x_sample`\n",
    "* Draw 40 values from the second distribution and store them in a variable called `y_sample`\n",
    "  * make sure you run the following line before you sample data\n",
    "  ```set.seed(42)```\n",
    " \n",
    "* Do a `t-`test to compute the `x_sample` and `y_sample`\n",
    "  * A `t-`test compares two vectors of values and predicts if the two vectors are from the same distribution\n",
    "  * The format for the t-test in R is\n",
    " \n",
    " `t.test(x,y)` where `x` an `y` are the vectors of values we would like to compare.\n",
    "  * Look at the `p-value`, if it's smaller than say 0.05, then there is a statistically significant difference between the two datasets.\n",
    "\n",
    "* Do you agree with the conclusion of the `t-test`. In other words, would you be comfortable reporting in a publication that the data in `x_sample` and `y_sample` are statistically different?"
   ]
  },
  {
   "cell_type": "code",
   "execution_count": 9,
   "id": "98ee250f",
   "metadata": {},
   "outputs": [],
   "source": []
  },
  {
   "cell_type": "code",
   "execution_count": 17,
   "id": "756f4ec4",
   "metadata": {},
   "outputs": [
    {
     "data": {
      "image/png": "[encoded data removed]",
      "text/plain": [
       "plot without title"
      ]
     },
     "metadata": {
      "image/png": {
       "height": 420,
       "width": 420
      }
     },
     "output_type": "display_data"
    }
   ],
   "source": [
    "# Write the code to draw the plot here\n",
    "\n",
    "x_vals = seq(8, 12, 0.05)\n",
    "probs_1 = mapply(dnorm, x_vals, mean = 10, sd = 0.5)\n",
    "probs_2 = mapply(dnorm, x_vals, mean = 10.2, sd = 0.5)\n",
    "\n",
    "\n",
    "ggplot() + \n",
    "  geom_line(aes(x=x_vals, y=probs_1, color = \"red\"), size=2) +\n",
    "  geom_line(aes(x=x_vals, y=probs_2, color = \"blue\"), size=2) +\n",
    "  xlim(8,12)+\n",
    "  theme(axis.title.x = element_text(size = 24), axis.title.y = element_text(size = 24)) + \n",
    "  theme(axis.text.x = element_text(size = 18), axis.text.y = element_text(size = 18)) + \n",
    "  scale_color_manual(labels = c(\"(1, 2.3)\", \"(0, 1)\"), values = c(\"blue\", \"red\"))"
   ]
  },
  {
   "cell_type": "code",
   "execution_count": 6,
   "id": "04d59bde",
   "metadata": {},
   "outputs": [],
   "source": [
    "set.seed(42)\n",
    "x_sample=rnorm(40, mean=10, sd=0.5)\n",
    "y_sample=rnorm(40, mean=10.2, sd=0.5)"
   ]
  },
  {
   "cell_type": "code",
   "execution_count": 7,
   "id": "e00038a7",
   "metadata": {},
   "outputs": [
    {
     "data": {
      "text/plain": [
       "\n",
       "\tWelch Two Sample t-test\n",
       "\n",
       "data:  x_sample and y_sample\n",
       "t = -3.7535, df = 76.724, p-value = 0.0003372\n",
       "alternative hypothesis: true difference in means is not equal to 0\n",
       "95 percent confidence interval:\n",
       " -0.6541157 -0.2006374\n",
       "sample estimates:\n",
       "mean of x mean of y \n",
       " 10.01414  10.44152 \n"
      ]
     },
     "metadata": {},
     "output_type": "display_data"
    }
   ],
   "source": [
    "t.test(x_sample,y_sample)"
   ]
  },
  {
   "cell_type": "code",
   "execution_count": 8,
   "id": "67810bdb",
   "metadata": {},
   "outputs": [],
   "source": [
    "# Write the code to run your t-test here\n"
   ]
  },
  {
   "cell_type": "markdown",
   "id": "9fedba3e",
   "metadata": {},
   "source": [
    "Q5. Challenge\n",
    "\n",
    "* We have used the function `dnorm` to plot the bell-shaped curve for a distribution $ x \\sim \\mathcal{N}(10, 0.5)$\n",
    "  * Use seq(8, 12, 0.1) to generate the x-axis values\n",
    "  * The pdf should look like the following\n",
    "\n",
    "![](https://www.dropbox.com/s/jl2c2atpkxze7ev/sample_pdf_sum_question.png?dl=1)\n",
    "\n",
    "* Use `dnorm` to compute the probability density for each point along the $x-$axis generated using `seq()` above\n",
    "  * What do you notice?\n",
    "  * How do you fix that?\n",
    "  \n"
   ]
  },
  {
   "cell_type": "code",
   "execution_count": null,
   "id": "e6acec6e",
   "metadata": {},
   "outputs": [],
   "source": [
    "# Write the code to run your t-test here\n",
    "\n",
    "dnorm can take a vector of values\n",
    "\n",
    "dnorm is pdf\n",
    "when you sum its not a probabiliyt, its. density\n",
    "pdf gives density\n",
    "transform density into probabilities then they sum to 1\n"
   ]
  },
  {
   "cell_type": "code",
   "execution_count": 5,
   "id": "5ef242fc",
   "metadata": {},
   "outputs": [
    {
     "data": {
      "text/html": [
       "<style>\n",
       ".list-inline {list-style: none; margin:0; padding: 0}\n",
       ".list-inline>li {display: inline-block}\n",
       ".list-inline>li:not(:last-child)::after {content: \"\\00b7\"; padding: 0 .5ex}\n",
       "</style>\n",
       "<ol class=list-inline><li>0.000267660451529771</li><li>0.000583893851582919</li><li>0.00122380386022754</li><li>0.00246443833694605</li><li>0.0047681764029297</li><li>0.00886369682387602</li><li>0.0158309031659599</li><li>0.0271659384673711</li><li>0.0447890605896859</li><li>0.070949185692463</li><li>0.107981933026376</li><li>0.157900316601788</li><li>0.221841669358911</li><li>0.29945493127149</li><li>0.388372109966426</li><li>0.483941449038287</li><li>0.579383105522965</li><li>0.666449205783599</li><li>0.736540280606647</li><li>0.782085387950912</li><li>0.797884560802865</li><li>0.782085387950912</li><li>0.736540280606647</li><li>0.666449205783599</li><li>0.579383105522965</li><li>0.483941449038287</li><li>0.388372109966426</li><li>0.29945493127149</li><li>0.221841669358911</li><li>0.157900316601788</li><li>0.107981933026376</li><li>0.070949185692463</li><li>0.0447890605896859</li><li>0.0271659384673711</li><li>0.0158309031659599</li><li>0.00886369682387602</li><li>0.0047681764029297</li><li>0.00246443833694605</li><li>0.00122380386022754</li><li>0.000583893851582919</li><li>0.000267660451529771</li></ol>\n"
      ],
      "text/latex": [
       "\\begin{enumerate*}\n",
       "\\item 0.000267660451529771\n",
       "\\item 0.000583893851582919\n",
       "\\item 0.00122380386022754\n",
       "\\item 0.00246443833694605\n",
       "\\item 0.0047681764029297\n",
       "\\item 0.00886369682387602\n",
       "\\item 0.0158309031659599\n",
       "\\item 0.0271659384673711\n",
       "\\item 0.0447890605896859\n",
       "\\item 0.070949185692463\n",
       "\\item 0.107981933026376\n",
       "\\item 0.157900316601788\n",
       "\\item 0.221841669358911\n",
       "\\item 0.29945493127149\n",
       "\\item 0.388372109966426\n",
       "\\item 0.483941449038287\n",
       "\\item 0.579383105522965\n",
       "\\item 0.666449205783599\n",
       "\\item 0.736540280606647\n",
       "\\item 0.782085387950912\n",
       "\\item 0.797884560802865\n",
       "\\item 0.782085387950912\n",
       "\\item 0.736540280606647\n",
       "\\item 0.666449205783599\n",
       "\\item 0.579383105522965\n",
       "\\item 0.483941449038287\n",
       "\\item 0.388372109966426\n",
       "\\item 0.29945493127149\n",
       "\\item 0.221841669358911\n",
       "\\item 0.157900316601788\n",
       "\\item 0.107981933026376\n",
       "\\item 0.070949185692463\n",
       "\\item 0.0447890605896859\n",
       "\\item 0.0271659384673711\n",
       "\\item 0.0158309031659599\n",
       "\\item 0.00886369682387602\n",
       "\\item 0.0047681764029297\n",
       "\\item 0.00246443833694605\n",
       "\\item 0.00122380386022754\n",
       "\\item 0.000583893851582919\n",
       "\\item 0.000267660451529771\n",
       "\\end{enumerate*}\n"
      ],
      "text/markdown": [
       "1. 0.000267660451529771\n",
       "2. 0.000583893851582919\n",
       "3. 0.00122380386022754\n",
       "4. 0.00246443833694605\n",
       "5. 0.0047681764029297\n",
       "6. 0.00886369682387602\n",
       "7. 0.0158309031659599\n",
       "8. 0.0271659384673711\n",
       "9. 0.0447890605896859\n",
       "10. 0.070949185692463\n",
       "11. 0.107981933026376\n",
       "12. 0.157900316601788\n",
       "13. 0.221841669358911\n",
       "14. 0.29945493127149\n",
       "15. 0.388372109966426\n",
       "16. 0.483941449038287\n",
       "17. 0.579383105522965\n",
       "18. 0.666449205783599\n",
       "19. 0.736540280606647\n",
       "20. 0.782085387950912\n",
       "21. 0.797884560802865\n",
       "22. 0.782085387950912\n",
       "23. 0.736540280606647\n",
       "24. 0.666449205783599\n",
       "25. 0.579383105522965\n",
       "26. 0.483941449038287\n",
       "27. 0.388372109966426\n",
       "28. 0.29945493127149\n",
       "29. 0.221841669358911\n",
       "30. 0.157900316601788\n",
       "31. 0.107981933026376\n",
       "32. 0.070949185692463\n",
       "33. 0.0447890605896859\n",
       "34. 0.0271659384673711\n",
       "35. 0.0158309031659599\n",
       "36. 0.00886369682387602\n",
       "37. 0.0047681764029297\n",
       "38. 0.00246443833694605\n",
       "39. 0.00122380386022754\n",
       "40. 0.000583893851582919\n",
       "41. 0.000267660451529771\n",
       "\n",
       "\n"
      ],
      "text/plain": [
       " [1] 0.0002676605 0.0005838939 0.0012238039 0.0024644383 0.0047681764\n",
       " [6] 0.0088636968 0.0158309032 0.0271659385 0.0447890606 0.0709491857\n",
       "[11] 0.1079819330 0.1579003166 0.2218416694 0.2994549313 0.3883721100\n",
       "[16] 0.4839414490 0.5793831055 0.6664492058 0.7365402806 0.7820853880\n",
       "[21] 0.7978845608 0.7820853880 0.7365402806 0.6664492058 0.5793831055\n",
       "[26] 0.4839414490 0.3883721100 0.2994549313 0.2218416694 0.1579003166\n",
       "[31] 0.1079819330 0.0709491857 0.0447890606 0.0271659385 0.0158309032\n",
       "[36] 0.0088636968 0.0047681764 0.0024644383 0.0012238039 0.0005838939\n",
       "[41] 0.0002676605"
      ]
     },
     "metadata": {},
     "output_type": "display_data"
    }
   ],
   "source": [
    "x_vals = seq(8, 12, 0.1)\n",
    "probs =dnorm(x_vals, mean = 10, sd = 0.5)\n",
    "probs"
   ]
  },
  {
   "cell_type": "code",
   "execution_count": 6,
   "id": "c7a5647c",
   "metadata": {},
   "outputs": [
    {
     "data": {
      "text/html": [
       "9.99959885434281"
      ],
      "text/latex": [
       "9.99959885434281"
      ],
      "text/markdown": [
       "9.99959885434281"
      ],
      "text/plain": [
       "[1] 9.999599"
      ]
     },
     "metadata": {},
     "output_type": "display_data"
    }
   ],
   "source": [
    "sum(probs)"
   ]
  },
  {
   "cell_type": "code",
   "execution_count": 9,
   "id": "1bf48816",
   "metadata": {},
   "outputs": [
    {
     "data": {
      "text/html": [
       "0.999959885434281"
      ],
      "text/latex": [
       "0.999959885434281"
      ],
      "text/markdown": [
       "0.999959885434281"
      ],
      "text/plain": [
       "[1] 0.9999599"
      ]
     },
     "metadata": {},
     "output_type": "display_data"
    }
   ],
   "source": [
    "sum(probs*0.1)"
   ]
  },
  {
   "cell_type": "code",
   "execution_count": null,
   "id": "e4da5463",
   "metadata": {},
   "outputs": [],
   "source": []
  }
 ],
 "metadata": {
  "kernelspec": {
   "display_name": "R",
   "language": "R",
   "name": "ir"
  },
  "language_info": {
   "codemirror_mode": "r",
   "file_extension": ".r",
   "mimetype": "text/x-r-source",
   "name": "R",
   "pygments_lexer": "r",
   "version": "4.1.1"
  }
 },
 "nbformat": 4,
 "nbformat_minor": 5
}
